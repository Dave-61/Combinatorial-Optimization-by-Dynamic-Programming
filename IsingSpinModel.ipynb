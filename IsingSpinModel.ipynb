{
 "cells": [
  {
   "cell_type": "markdown",
   "metadata": {},
   "source": [
    "## Introduction\n",
    "\n",
    "An Ising spin model can be thought of as a graph with vertices $V =$ {$ v_0, v_1, v_2, ..., v_{n-1}$} and edges, in which each vertex has a spin which can be positive (+1) or negative (-1). The spin of vertex is denoted as $s_v$. The vertices have weights given by a vector $h$ and the edges have weights given by an upper triangular matrix $J$; weights can be positive, negative, or zero. The spin configuration, i.e., whether each vertex's spin is positive or negative, is known as the _state_. The energy of the system depends on the state and the weights given by $h$ and $J$. The equation for the system energy given by state $S =$ {$s_0, s_1, s_2, ..., s_{n-1}$} is:\n",
    "\n",
    "$$\\begin{align}\n",
    "E(s_0, s_1, s_2, ..., s_{n-1}) = \\sum_{0 \\leq i \\leq {n-1}} h_i s_i + \\sum_{0 \\leq i < j \\leq {n-1}} J_{ij} s_i s_j \\\\\n",
    "\\label{eq:energy} \\tag{1}\n",
    "\\end{align}$$\n",
    "\n",
    "We are interested in finding a *ground state*, i.e. a state that minimizes the energy of the system."
   ]
  },
  {
   "cell_type": "markdown",
   "metadata": {},
   "source": [
    "## Algorithm Description\n",
    "A ground state (optimal solution) $S^* =$ {$s_0^*, s_1^*, s_2^*, ..., s_{n-1}^*$} can be found using _dynamic programming_ as follows. Let $v_r \\in V$ be an arbitrary chosen root vertex in the graph (the choice does not affect the solution). From this root, each vertex $v_i \\in V$ has a depth $d_i$ which is the number of edges between it and $v_r$ (the depth of $v_r$ is zero). The children, $C_i$, of vertex $v_i$ are those neighboring (connected) vertices, if any, of depth $d_i + 1$. Every vertex $v_i$ other than the root has a __unique__ parent, which is the neighboring vertex of depth $d_i - 1$. \n",
    "\n",
    "The figure below illustrates these concepts through an example, where the root of a tree is labeled $r$ and every other node is labeled with its depth. The dashed vertices are the descendents of the bold vertex. The best labels for the dashed verticies can be computed as a function of the label of the bold vertex.\n",
    "![Fig1](Fig1.png)"
   ]
  },
  {
   "cell_type": "markdown",
   "metadata": {},
   "source": [
    "For any vertex $v_j \\in V$ with no children (i.e. any leaf of the rooted tree), the best spin $s_j^*$ for that vertex can be computed as a function of the spin of just its parent $v_i$, denoted by $\\sigma$. The only edge incident on $v_j$ is $(v_i, v_j)$, thus the only contribution of $s_j$ to the energy in (1) is $h_j s_j + J_{ij} s_j \\sigma$. The quality of the best spin for $v_j$ given spin $\\sigma$ for $v_i$ is"
   ]
  },
  {
   "cell_type": "markdown",
   "metadata": {},
   "source": [
    "$$\\begin{align} \n",
    "B_j(\\sigma) = \\min_{s_j} \\ \\bigl(h_j s_j + J_{ij} s_j \\sigma\\bigr) .\\\\ \n",
    "\\label{eq:Bleaf} \\tag{2} \n",
    "\\end{align}$$"
   ]
  },
  {
   "cell_type": "markdown",
   "metadata": {},
   "source": [
    "\\begin{equation*}\n",
    "\\mathbf{r} \\equiv \\begin{bmatrix}\n",
    "y \\\\\n",
    "\\theta\n",
    "\\end{bmatrix}\n",
    "\\label{eq:vector_ray} \\tag{1}\n",
    "\\end{equation*}"
   ]
  },
  {
   "cell_type": "markdown",
   "metadata": {},
   "source": [
    "Vector **r** is defined by equation $\\eqref{eq:vector_ray}$"
   ]
  },
  {
   "cell_type": "markdown",
   "metadata": {},
   "source": [
    "For any vertex $v_j \\in V$ other than the root, assume that the function $B_c(s_j)$ is known for each child $v_c \\in C_j$. That is, the quality of the best spin for each child is known with respect to the spin of $v_j$. Then the quality of the best spin for $v_j$ given spin $\\sigma$ for its parent $v_i$ is\n",
    "\n",
    "$$\\begin{align}\\\n",
    "B_j(\\sigma) = \\min_{s_j} \\ \\biggl(h_j s_j + J_{ij} s_j \\sigma + \\sum_{v_c \\in C_j} B_c(s_j)\\biggr).\\\\\n",
    "\\label{eq:B_general} \\tag{3}\n",
    "\\end{align}$$"
   ]
  },
  {
   "cell_type": "markdown",
   "metadata": {},
   "source": [
    "This equation subsumes (2) because for a leaf node the sum over its children is simply empty. Finally, for the root $v_r$, if $B_c(s_r)$ is known for each child $v_c \\in C_r$ then the best spin for the root is\n",
    "\n",
    "$$\\begin{align}\\\n",
    "s_r^* = \\text{arg} \\min_{s_r} \\ \\biggl(h_r s_r + \\sum_{v_c \\in C_r} B_c(s_r)\\biggr).\\\\\n",
    "\\label{eq:B_root} \\tag{4}\n",
    "\\end{align}$$"
   ]
  },
  {
   "cell_type": "markdown",
   "metadata": {},
   "source": [
    "That is, the minimization in (1) can be expressed recursively in terms of the $(n-1)$ functions $B_j(\\sigma)$ for each vertex $v_j \\in V$ (other than the root). At this point, we compute the optimal spin $s_r^*$ for the root. The optimal state $S^*$ for all the remaining nodes can be computed by tracing back from the root to each leaf. We know the optimal spin of each node given the spin of its parent, and the optimal spin of each parent is now known starting from the root. That is, the best spin for $v_j$ as a function of $\\sigma^*$, the known optimal spin of its parent, can be obtained by replacing $min$ in (3) with $argmin$:\n",
    "\n",
    "$$\\begin{align}\\\n",
    "s_j^* = \\text{arg} \\min_{s_j} \\ \\biggl(h_j s_j + J_{ij} s_j \\sigma^* + \\sum_{v_c \\in C_j} B_c(s_j)\\biggr).\\\\\n",
    "\\label{eq:opt_spin} \\tag{5}\n",
    "\\end{align}$$"
   ]
  },
  {
   "cell_type": "markdown",
   "metadata": {},
   "source": [
    "## alaky"
   ]
  },
  {
   "cell_type": "markdown",
   "metadata": {},
   "source": [
    "$$\\begin{align}\n",
    "E(s_0, s_1, s_2, ..., s_{n-1}) = \\sum_{0 \\leq i \\leq {n-1}} h_i s_i + \\sum_{0 \\leq i < j \\leq {n-1}} J_{ij} s_i s_j \\\\\n",
    "\\label{eq:energy} \\tag{1}\n",
    "\\end{align}$$"
   ]
  },
  {
   "cell_type": "markdown",
   "metadata": {},
   "source": [
    "## Input"
   ]
  },
  {
   "cell_type": "code",
   "execution_count": 1,
   "metadata": {},
   "outputs": [
    {
     "data": {
      "text/plain": [
       "['c This is an extra-hard problem',\n",
       " 'p test01 4 6',\n",
       " '0 1 1',\n",
       " '1 2 1',\n",
       " 'c this is a test comment',\n",
       " '1 3 1',\n",
       " '0 0 -1',\n",
       " '1 1 -1',\n",
       " '2 2 -1']"
      ]
     },
     "execution_count": 1,
     "metadata": {},
     "output_type": "execute_result"
    }
   ],
   "source": [
    "import numpy as np\n",
    "\n",
    "# read the input file and save all lines in a list\n",
    "lines = []\n",
    "with open(\"input.txt\", \"rt\") as input_file:\n",
    "    for line in input_file:  \n",
    "        if not line.strip(): continue  # skip empty lines  \n",
    "        \n",
    "        # remove all whitespace characters (space, tab, newline, return, formfeed)\n",
    "        # before, inside (just keep one space), and after each line before adding to the list 'lines'            \n",
    "        lines.append(\" \".join(line.split()))  \n",
    " \n",
    "lines"
   ]
  },
  {
   "cell_type": "code",
   "execution_count": 2,
   "metadata": {},
   "outputs": [
    {
     "data": {
      "text/plain": [
       "1"
      ]
     },
     "execution_count": 2,
     "metadata": {},
     "output_type": "execute_result"
    }
   ],
   "source": [
    "# find the index of problem line which starts with lower case p\n",
    "for i, line in enumerate(lines):\n",
    "    if line[0] == \"p\":\n",
    "        p_index = i   \n",
    "        break\n",
    "p_index"
   ]
  },
  {
   "cell_type": "code",
   "execution_count": 3,
   "metadata": {},
   "outputs": [
    {
     "data": {
      "text/plain": [
       "[4, 6]"
      ]
     },
     "execution_count": 3,
     "metadata": {},
     "output_type": "execute_result"
    }
   ],
   "source": [
    "# find the number of vertices and the number of (non-zero) weights from the problem line\n",
    "num = [int(i) for i in lines[p_index].split() if i.isdigit()] \n",
    "num"
   ]
  },
  {
   "cell_type": "code",
   "execution_count": 4,
   "metadata": {},
   "outputs": [],
   "source": [
    "n = num[0]  # number of vertices in the graph"
   ]
  },
  {
   "cell_type": "markdown",
   "metadata": {},
   "source": [
    "###### Assumption: the index of vertices start from 0 not 1! \n",
    "$V =$ {$ v_0, v_1, v_2, ..., v_{n-1}$}"
   ]
  },
  {
   "cell_type": "code",
   "execution_count": 5,
   "metadata": {},
   "outputs": [],
   "source": [
    "# initiate all weights in h and j as zero\n",
    "def weights(n): \n",
    "    h = {i: 0 for i in range(n)}\n",
    "    J = {(i, j): 0 for i in range(n) for j in range(n)}\n",
    "    \n",
    "    return h, J"
   ]
  },
  {
   "cell_type": "code",
   "execution_count": 6,
   "metadata": {},
   "outputs": [
    {
     "name": "stdout",
     "output_type": "stream",
     "text": [
      "The number of weights given in problem line is equal to the number of data lines in the file.\n"
     ]
    }
   ],
   "source": [
    "# read the data lines and save the weights in h and J\n",
    "h, J = weights(n)\n",
    "num_data_lines = 0\n",
    "\n",
    "for i in range(p_index+1, len(lines)):  # data lines appear after the problem line\n",
    "    if lines[i][0].isdigit():           # this is a data line\n",
    "        \n",
    "        num_data_lines += 1\n",
    "        \n",
    "        u = int(lines[i].split()[0])\n",
    "        v = int(lines[i].split()[1])\n",
    "        w = int(lines[i].split()[2])\n",
    "        if u != v:                     # the (J) weight is assigned to the edge between nodes u and v\n",
    "            J[(u, v)] = J[(v, u)] = w  # J is an upper triangular matrix\n",
    "        else:\n",
    "            h[u] = w                   # the (h) weight is assigned to the node\n",
    "            \n",
    "if num_data_lines == num[1]:\n",
    "    print('The number of weights given in problem line is equal to the number of data lines in the file.')\n",
    "else:\n",
    "    raise Exception('ERROR: The number of weights given in problem line is NOT equal to the number of data lines in the file!')"
   ]
  },
  {
   "cell_type": "markdown",
   "metadata": {},
   "source": [
    "## Algorithm Implementation"
   ]
  },
  {
   "cell_type": "code",
   "execution_count": 7,
   "metadata": {},
   "outputs": [
    {
     "name": "stdout",
     "output_type": "stream",
     "text": [
      "Root is randomly selected as vertex 2.\n"
     ]
    }
   ],
   "source": [
    "# select root vertex randomly\n",
    "r = np.random.randint(0, n)  # assumption: the index of vertices start from 0 not 1!\n",
    "print('Root is randomly selected as vertex {}.'.format(r))"
   ]
  },
  {
   "cell_type": "code",
   "execution_count": 8,
   "metadata": {},
   "outputs": [],
   "source": [
    "d = {i: np.nan for i in range(n)}  # depth: number of edges between vertex i and root\n",
    "d[r] = 0  # depth of root is zero\n",
    "\n",
    "VV = [i for i in range(n)]  # variable (decreasing) set of vertices\n",
    "\n",
    "crt_d = 0  # current depth\n",
    "\n",
    "# parent: every vertex i (other than the root) has a unique parent, which is the neighboring vertex of depth 𝑑𝑖−1\n",
    "prt = {i: np.nan for i in range(n)}\n",
    "\n",
    "# children of vertex i are the nodes connected to i, which have depth 𝑑𝑖+1\n",
    "chd = {i: [] for i in range(n)}\n",
    "\n",
    "while len(VV) > 0: \n",
    "    \n",
    "    # fid all vertices with the current depth\n",
    "    V_crt_d = []  \n",
    "    for v in VV:\n",
    "        if d[v] == crt_d:\n",
    "            V_crt_d.append(v)\n",
    "    \n",
    "    for i in V_crt_d:  # iterate over all vertices with the current depth (parents) and find their children\n",
    "        for j in VV:\n",
    "            if j not in V_crt_d:  # two vertices with the same depth cannot be parent or child of each other \n",
    "                if J[(i, j)] != 0:\n",
    "                            \n",
    "                    # vertex i will be the parent of node j\n",
    "                    prt[j] = i\n",
    "\n",
    "                    # node j to be added as a child of vertex i\n",
    "                    chd[i].append(j)\n",
    "\n",
    "                    # depth of node j (child) will be the depth of parent + 1\n",
    "                    d[j] = crt_d + 1\n",
    "\n",
    "        VV.remove(i)  # remove vertex i from VV; all of its children are found\n",
    "\n",
    "    crt_d += 1  # go deeper to the next depth "
   ]
  },
  {
   "cell_type": "code",
   "execution_count": 9,
   "metadata": {
    "scrolled": false
   },
   "outputs": [
    {
     "name": "stdout",
     "output_type": "stream",
     "text": [
      "Vertex \t Depth\n",
      "0 \t 2\n",
      "1 \t 1\n",
      "2 \t 0\n",
      "3 \t 2\n"
     ]
    }
   ],
   "source": [
    "print('Vertex \\t Depth')\n",
    "for key in d.keys():\n",
    "    print(key, '\\t', d[key])"
   ]
  },
  {
   "cell_type": "code",
   "execution_count": 10,
   "metadata": {},
   "outputs": [
    {
     "name": "stdout",
     "output_type": "stream",
     "text": [
      "Vertex \t Children\n",
      "0 \t []\n",
      "1 \t [0, 3]\n",
      "2 \t [1]\n",
      "3 \t []\n"
     ]
    }
   ],
   "source": [
    "print('Vertex \\t Children')\n",
    "for key in chd.keys():\n",
    "    print(key, '\\t', chd[key])"
   ]
  },
  {
   "cell_type": "code",
   "execution_count": 11,
   "metadata": {
    "scrolled": true
   },
   "outputs": [
    {
     "name": "stdout",
     "output_type": "stream",
     "text": [
      "Vertex \t Parent\n",
      "0 \t 1\n",
      "1 \t 2\n",
      "2 \t nan\n",
      "3 \t 1\n"
     ]
    }
   ],
   "source": [
    "print('Vertex \\t Parent')\n",
    "for key in prt.keys():\n",
    "    print(key, '\\t', prt[key])"
   ]
  },
  {
   "cell_type": "markdown",
   "metadata": {},
   "source": [
    "The quality of the best spin for $v_j$ given spin $\\sigma$ for its parent $v_i$, shown in (3), can be restated by replacing $s_j$ with $\\pm 1$:\n",
    "\n",
    "$$\\begin{align}\\\n",
    "B_j(\\sigma) = \\min \\ \\biggl(h_j + J_{ij} \\sigma + \\sum_{v_c \\in C_j} B_c(+1) \\quad , \\quad \n",
    "                            - h_j - J_{ij} \\sigma + \\sum_{v_c \\in C_j} B_c(-1)\\biggr)\\\\\n",
    "\\end{align}$$"
   ]
  },
  {
   "cell_type": "code",
   "execution_count": 12,
   "metadata": {},
   "outputs": [],
   "source": [
    "# vertex i is the parent of vertex j and has spin sigma\n",
    "# B is a function of sigma\n",
    "# sigma = +-1\n",
    "\n",
    "def B(j, sigma): \n",
    "    \n",
    "    BC_p = BC_n = 0\n",
    "    for c in chd[j]:\n",
    "        BC_p += B(c, +1)\n",
    "        BC_n += B(c, -1)\n",
    "    \n",
    "    i = prt[j]\n",
    "    output = min(h[j] + J[i, j]*sigma +  BC_p , -h[j] - J[i, j]*sigma + BC_n)\n",
    "    \n",
    "    return output"
   ]
  },
  {
   "cell_type": "markdown",
   "metadata": {},
   "source": [
    "For the root $v_r$, now $B_c(s_r)$ is known for each child $v_c \\in C_r$, so the best spin for the root is calculated using (4):\n",
    "\n",
    "$$\\begin{align}\\\n",
    "s_r^* = \\text{arg} \\min_{s_r} \\ \\biggl(h_r s_r + \\sum_{v_c \\in C_r} B_c(s_r)\\biggr) \\\\\n",
    "\\end{align}$$"
   ]
  },
  {
   "cell_type": "code",
   "execution_count": 13,
   "metadata": {},
   "outputs": [
    {
     "name": "stdout",
     "output_type": "stream",
     "text": [
      "Optimal spin for the root (vertex 2) = 1.\n"
     ]
    }
   ],
   "source": [
    "def B_sr(sr):\n",
    "    \n",
    "    BC = 0\n",
    "    for c in chd[r]:\n",
    "        BC += B(c, sr)\n",
    "\n",
    "    return h[r]*sr + BC\n",
    "\n",
    "\n",
    "if B_sr(+1) < B_sr(-1):\n",
    "    opt_sr = +1\n",
    "else:\n",
    "    opt_sr = -1\n",
    "    \n",
    "print('Optimal spin for the root (vertex {}) = {}.'.format(r, opt_sr))"
   ]
  },
  {
   "cell_type": "code",
   "execution_count": 14,
   "metadata": {},
   "outputs": [],
   "source": [
    "# optimal spin for each node\n",
    "opt_s = {i: np.nan for i in range(n)}\n",
    "opt_s[r] = opt_sr"
   ]
  },
  {
   "cell_type": "markdown",
   "metadata": {},
   "source": [
    "The best spin for $v_j$ as a function of $\\sigma^*$, the known optimal spin of its parent, can be obtained by (5):\n",
    "\n",
    "$$\\begin{align}\\\n",
    "s_j^* = \\text{arg} \\min_{s_j} \\ \\biggl(h_j s_j + J_{ij} s_j \\sigma^* + \\sum_{v_c \\in C_j} B_c(s_j)\\biggr) \\\\\n",
    "\\end{align}$$"
   ]
  },
  {
   "cell_type": "code",
   "execution_count": 15,
   "metadata": {},
   "outputs": [],
   "source": [
    "# vertex i is the parent of vertex j  \n",
    "# sj = +-1\n",
    "\n",
    "def B2(j, sj): \n",
    "    \n",
    "    BC = 0\n",
    "    for c in chd[j]:\n",
    "        BC += B(c, j)\n",
    "    \n",
    "    i = prt[j]\n",
    "    output = h[j]*sj + J[i, j]*sj*opt_s[i] + BC\n",
    "    \n",
    "    return output\n",
    "\n",
    "def sel_opt_s(j):\n",
    "    if B2(j, +1) < B2(j, -1):\n",
    "        opt_s[j] = +1\n",
    "    else:\n",
    "        opt_s[j] = -1"
   ]
  },
  {
   "cell_type": "markdown",
   "metadata": {},
   "source": [
    "The optimal state $S^*$ for the nodes can be computed by tracing back from the root to each leaf, i.e. in order of increasing depth."
   ]
  },
  {
   "cell_type": "code",
   "execution_count": 16,
   "metadata": {},
   "outputs": [
    {
     "data": {
      "text/plain": [
       "OrderedDict([(2, 0), (1, 1), (0, 2), (3, 2)])"
      ]
     },
     "execution_count": 16,
     "metadata": {},
     "output_type": "execute_result"
    }
   ],
   "source": [
    "# sort the depth values of the nodes in ascending order\n",
    "import collections\n",
    "from operator import itemgetter \n",
    "\n",
    "od_a = collections.OrderedDict(sorted(d.items(), key=itemgetter(1), reverse=False))\n",
    "od_a"
   ]
  },
  {
   "cell_type": "code",
   "execution_count": 17,
   "metadata": {},
   "outputs": [
    {
     "name": "stdout",
     "output_type": "stream",
     "text": [
      "Vertex \t Optimal Spin\n",
      "0 \t 1\n",
      "1 \t -1\n",
      "2 \t 1\n",
      "3 \t 1\n"
     ]
    }
   ],
   "source": [
    "# start with vertices (other than the root) with lower depth values\n",
    "for j in od_a.keys():\n",
    "    if j == r:\n",
    "        continue   \n",
    "    sel_opt_s(j)\n",
    "\n",
    "print('Vertex \\t Optimal Spin')\n",
    "for key in opt_s.keys():\n",
    "    print(key, '\\t', opt_s[key])"
   ]
  },
  {
   "cell_type": "markdown",
   "metadata": {},
   "source": [
    "Finally the optimal energy of the system is calculated using (1):\n",
    "\n",
    "$$\\begin{align}\\\n",
    "E^* = \\sum_{0 \\leq i \\leq {n-1}} h_i s_i^* + \\sum_{0 \\leq i < j \\leq {n-1}} J_{ij} s_i^* s_j^* \\\\\n",
    "\\end{align}$$"
   ]
  },
  {
   "cell_type": "code",
   "execution_count": 18,
   "metadata": {},
   "outputs": [
    {
     "name": "stdout",
     "output_type": "stream",
     "text": [
      "Optimal energy of the system = -4.\n"
     ]
    }
   ],
   "source": [
    "opt_e = 0\n",
    "for i in range(n):\n",
    "    opt_e += h[i]*opt_s[i]\n",
    "    for j in range(n):\n",
    "        if i < j:\n",
    "            opt_e += J[i,j]*opt_s[i]*opt_s[j]\n",
    "        \n",
    "print('Optimal energy of the system = {}.'.format(opt_e))"
   ]
  },
  {
   "cell_type": "markdown",
   "metadata": {},
   "source": [
    "## Output"
   ]
  },
  {
   "cell_type": "code",
   "execution_count": 19,
   "metadata": {},
   "outputs": [
    {
     "name": "stdout",
     "output_type": "stream",
     "text": [
      "-4\n",
      "+ - + + "
     ]
    }
   ],
   "source": [
    "print(opt_e)\n",
    "\n",
    "for key in opt_s.keys():\n",
    "    if opt_s[key] == +1:\n",
    "        print(\"+\", end=\" \")\n",
    "    else:\n",
    "        print(\"-\", end=\" \")"
   ]
  },
  {
   "cell_type": "code",
   "execution_count": 20,
   "metadata": {},
   "outputs": [],
   "source": [
    "# write the output to a text file\n",
    "with open(\"output.txt\", \"w\") as output_file:\n",
    "    print(opt_e, file=output_file)\n",
    "\n",
    "    for key in opt_s.keys():\n",
    "        if opt_s[key] == +1:\n",
    "            print(\"+\", end=\" \", file=output_file)\n",
    "        else:\n",
    "            print(\"-\", end=\" \", file=output_file)"
   ]
  },
  {
   "cell_type": "markdown",
   "metadata": {},
   "source": [
    "## References\n",
    "- Felzenszwalb PF, Huttenlocher DP. _Pictorial Structures for Object Recognition_. International Journal of Computer Vision 61, 55-79 (2005) https://doi.org/10.1023/B:VISI.0000042934.15159.49\n",
    "\n",
    "\n",
    "- Felzenszwalb PF, Zabih R. _Dynamic Programming and Graph Algorithms in Computer Vision_. IEEE Transactions on Pattern Analysis and Machine Intelligence 33, 721-740 (2011) https://doi.org/10.1109/TPAMI.2010.135"
   ]
  }
 ],
 "metadata": {
  "celltoolbar": "Raw Cell Format",
  "hide_input": false,
  "kernelspec": {
   "display_name": "Python 3",
   "language": "python",
   "name": "python3"
  },
  "language_info": {
   "codemirror_mode": {
    "name": "ipython",
    "version": 3
   },
   "file_extension": ".py",
   "mimetype": "text/x-python",
   "name": "python",
   "nbconvert_exporter": "python",
   "pygments_lexer": "ipython3",
   "version": "3.7.4"
  },
  "toc": {
   "base_numbering": 1,
   "nav_menu": {},
   "number_sections": true,
   "sideBar": true,
   "skip_h1_title": false,
   "title_cell": "Table of Contents",
   "title_sidebar": "Contents",
   "toc_cell": false,
   "toc_position": {
    "height": "calc(100% - 180px)",
    "left": "10px",
    "top": "150px",
    "width": "165px"
   },
   "toc_section_display": true,
   "toc_window_display": true
  },
  "varInspector": {
   "cols": {
    "lenName": 16,
    "lenType": 16,
    "lenVar": 40
   },
   "kernels_config": {
    "python": {
     "delete_cmd_postfix": "",
     "delete_cmd_prefix": "del ",
     "library": "var_list.py",
     "varRefreshCmd": "print(var_dic_list())"
    },
    "r": {
     "delete_cmd_postfix": ") ",
     "delete_cmd_prefix": "rm(",
     "library": "var_list.r",
     "varRefreshCmd": "cat(var_dic_list()) "
    }
   },
   "types_to_exclude": [
    "module",
    "function",
    "builtin_function_or_method",
    "instance",
    "_Feature"
   ],
   "window_display": false
  }
 },
 "nbformat": 4,
 "nbformat_minor": 2
}
